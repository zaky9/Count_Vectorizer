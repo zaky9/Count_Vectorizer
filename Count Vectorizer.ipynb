{
 "cells": [
  {
   "cell_type": "markdown",
   "id": "e4baac59",
   "metadata": {},
   "source": [
    "## Count Vectorizer \n",
    "Four common text-to-vector transformation methods are compared for their accuracy. These are Stopwords, Simple, Lemmatization, and Stemming. The dataset used are from BBC full text documents that can be downloaded at:\n",
    "__[Kaggle](https://www.kaggle.com/shivamkushwaha/bbc-full-text-document-classification)__ or __[lazyprogrammer](https://lazyprogrammer.me/course_files/nlp/bbc_text_cls.csv)__\n"
   ]
  },
  {
   "cell_type": "code",
   "execution_count": 1,
   "id": "a85ff6a5",
   "metadata": {},
   "outputs": [
    {
     "name": "stderr",
     "output_type": "stream",
     "text": [
      "[nltk_data] Downloading package wordnet to C:\\Users\\ZAKY-\n",
      "[nltk_data]     PC\\AppData\\Roaming\\nltk_data...\n",
      "[nltk_data]   Package wordnet is already up-to-date!\n",
      "[nltk_data] Downloading package punkt to C:\\Users\\ZAKY-\n",
      "[nltk_data]     PC\\AppData\\Roaming\\nltk_data...\n",
      "[nltk_data]   Package punkt is already up-to-date!\n",
      "[nltk_data] Downloading package averaged_perceptron_tagger to\n",
      "[nltk_data]     C:\\Users\\ZAKY-PC\\AppData\\Roaming\\nltk_data...\n",
      "[nltk_data]   Package averaged_perceptron_tagger is already up-to-\n",
      "[nltk_data]       date!\n"
     ]
    },
    {
     "data": {
      "text/plain": [
       "True"
      ]
     },
     "execution_count": 1,
     "metadata": {},
     "output_type": "execute_result"
    }
   ],
   "source": [
    "import numpy as np\n",
    "import pandas as pd\n",
    "from sklearn.feature_extraction.text import CountVectorizer\n",
    "from sklearn.naive_bayes import MultinomialNB\n",
    "from sklearn.model_selection import train_test_split\n",
    "\n",
    "import nltk\n",
    "from nltk import word_tokenize\n",
    "from nltk.stem import WordNetLemmatizer, PorterStemmer\n",
    "from  nltk.corpus import wordnet\n",
    "\n",
    "nltk.download(\"wordnet\")\n",
    "nltk.download('punkt')\n",
    "nltk.download('averaged_perceptron_tagger')\n"
   ]
  },
  {
   "cell_type": "code",
   "execution_count": 2,
   "id": "da3579d5",
   "metadata": {},
   "outputs": [
    {
     "data": {
      "text/html": [
       "<div>\n",
       "<style scoped>\n",
       "    .dataframe tbody tr th:only-of-type {\n",
       "        vertical-align: middle;\n",
       "    }\n",
       "\n",
       "    .dataframe tbody tr th {\n",
       "        vertical-align: top;\n",
       "    }\n",
       "\n",
       "    .dataframe thead th {\n",
       "        text-align: right;\n",
       "    }\n",
       "</style>\n",
       "<table border=\"1\" class=\"dataframe\">\n",
       "  <thead>\n",
       "    <tr style=\"text-align: right;\">\n",
       "      <th></th>\n",
       "      <th>text</th>\n",
       "      <th>labels</th>\n",
       "    </tr>\n",
       "  </thead>\n",
       "  <tbody>\n",
       "    <tr>\n",
       "      <th>0</th>\n",
       "      <td>Ad sales boost Time Warner profit\\n\\nQuarterly...</td>\n",
       "      <td>business</td>\n",
       "    </tr>\n",
       "    <tr>\n",
       "      <th>1</th>\n",
       "      <td>Dollar gains on Greenspan speech\\n\\nThe dollar...</td>\n",
       "      <td>business</td>\n",
       "    </tr>\n",
       "    <tr>\n",
       "      <th>2</th>\n",
       "      <td>Yukos unit buyer faces loan claim\\n\\nThe owner...</td>\n",
       "      <td>business</td>\n",
       "    </tr>\n",
       "    <tr>\n",
       "      <th>3</th>\n",
       "      <td>High fuel prices hit BA's profits\\n\\nBritish A...</td>\n",
       "      <td>business</td>\n",
       "    </tr>\n",
       "    <tr>\n",
       "      <th>4</th>\n",
       "      <td>Pernod takeover talk lifts Domecq\\n\\nShares in...</td>\n",
       "      <td>business</td>\n",
       "    </tr>\n",
       "  </tbody>\n",
       "</table>\n",
       "</div>"
      ],
      "text/plain": [
       "                                                text    labels\n",
       "0  Ad sales boost Time Warner profit\\n\\nQuarterly...  business\n",
       "1  Dollar gains on Greenspan speech\\n\\nThe dollar...  business\n",
       "2  Yukos unit buyer faces loan claim\\n\\nThe owner...  business\n",
       "3  High fuel prices hit BA's profits\\n\\nBritish A...  business\n",
       "4  Pernod takeover talk lifts Domecq\\n\\nShares in...  business"
      ]
     },
     "execution_count": 2,
     "metadata": {},
     "output_type": "execute_result"
    }
   ],
   "source": [
    "# https://www.kaggle.com/shivamkushwaha/bbc-full-text-document-classification\n",
    "# !wget -nc https://lazyprogrammer.me/course_files/nlp/bbc_text_cls.csv\n",
    "dataset = \"C:/Users/ZAKY-PC/Jupyter_proj/datasets/bbc_text_cls.csv\"\n",
    "df = pd.read_csv(dataset)\n",
    "df.head()"
   ]
  },
  {
   "cell_type": "code",
   "execution_count": 3,
   "id": "552f903c",
   "metadata": {},
   "outputs": [
    {
     "data": {
      "image/png": "[encoded data removed]",
      "text/plain": [
       "<Figure size 720x360 with 1 Axes>"
      ]
     },
     "metadata": {
      "needs_background": "light"
     },
     "output_type": "display_data"
    }
   ],
   "source": [
    "# assign input and label\n",
    "inputs = df['text']\n",
    "labels = df['labels']\n",
    "\n",
    "# plot histogram\n",
    "labels.hist(figsize=(10,5))\n"
   ]
  },
  {
   "cell_type": "code",
   "execution_count": 4,
   "id": "563da6b1",
   "metadata": {},
   "outputs": [],
   "source": [
    "# split data into train and test dataset: to check imbalance classes\n",
    "input_train, input_test, y_train, y_test = train_test_split(inputs, labels, random_state=123)\n",
    "vectorizer = CountVectorizer()\n",
    "\n",
    "x_train = vectorizer.fit_transform(input_train)\n",
    "x_test = vectorizer.transform(input_test)"
   ]
  },
  {
   "cell_type": "code",
   "execution_count": 5,
   "id": "4e482f97",
   "metadata": {},
   "outputs": [
    {
     "name": "stdout",
     "output_type": "stream",
     "text": [
      "0.007695239935415004\n"
     ]
    }
   ],
   "source": [
    "# print(x_train)\n",
    "# observe the magnitude of sparse the matrix is\n",
    "# print((x_train != 0).sum()) # 337411 of non  zero values\n",
    "\n",
    "print((x_train != 0).sum()/ np.prod(x_train.shape)) # number of non-zero elements/ total number of elements"
   ]
  },
  {
   "cell_type": "code",
   "execution_count": 6,
   "id": "b1f6f34f",
   "metadata": {},
   "outputs": [
    {
     "name": "stdout",
     "output_type": "stream",
     "text": [
      "train score:  0.9922062350119905\n",
      "test score:  0.9712746858168761\n"
     ]
    }
   ],
   "source": [
    "# Without transformation to vector\n",
    "model = MultinomialNB()\n",
    "model.fit(x_train, y_train)\n",
    "print(\"train score: \",model.score(x_train,y_train))\n",
    "print(\"test score: \", model.score(x_test, y_test))"
   ]
  },
  {
   "cell_type": "code",
   "execution_count": 7,
   "id": "4dd18285",
   "metadata": {},
   "outputs": [
    {
     "name": "stdout",
     "output_type": "stream",
     "text": [
      "train score:  0.9928057553956835\n",
      "test score:  0.9766606822262118\n"
     ]
    }
   ],
   "source": [
    "# Method 1: Stopwords\n",
    "vectorizer_stopwords = CountVectorizer(stop_words='english')\n",
    "x_train_SW = vectorizer_stopwords.fit_transform(input_train)\n",
    "x_test_SW = vectorizer_stopwords.transform(input_test)\n",
    "\n",
    "model = MultinomialNB()\n",
    "model.fit(x_train_SW, y_train)\n",
    "\n",
    "print(\"train score: \",model.score(x_train_SW,y_train))\n",
    "print(\"test score: \", model.score(x_test_SW, y_test))"
   ]
  },
  {
   "cell_type": "code",
   "execution_count": 8,
   "id": "5c9d622a",
   "metadata": {},
   "outputs": [
    {
     "name": "stdout",
     "output_type": "stream",
     "text": [
      "train score:  0.9952038369304557\n",
      "test score:  0.9712746858168761\n"
     ]
    }
   ],
   "source": [
    "# Method 2: Simple tokenizer\n",
    "def simple_tokenizer(s):\n",
    "    return s.split() # using split function\n",
    "\n",
    "vectorizer = CountVectorizer(tokenizer = simple_tokenizer)\n",
    "x_train = vectorizer.fit_transform(input_train)\n",
    "x_test = vectorizer.transform(input_test)\n",
    "model = MultinomialNB()\n",
    "model.fit(x_train, y_train)\n",
    "\n",
    "print(\"train score: \",model.score(x_train,y_train))\n",
    "print(\"test score: \", model.score(x_test, y_test))"
   ]
  },
  {
   "cell_type": "code",
   "execution_count": 9,
   "id": "ca28e8db",
   "metadata": {},
   "outputs": [
    {
     "name": "stdout",
     "output_type": "stream",
     "text": [
      "train score:  0.9922062350119905\n",
      "test score:  0.9676840215439856\n"
     ]
    }
   ],
   "source": [
    "# Method 3: LemmaTokenizer\n",
    "\n",
    "# automate the pos tagging\n",
    "def get_wordnet_pos(treebank_tag):\n",
    "    if treebank_tag.startswith('J'):\n",
    "        return wordnet.ADJ\n",
    "    elif treebank_tag.startswith('V'):\n",
    "        return wordnet.VERB\n",
    "    elif treebank_tag.startswith('N'):\n",
    "        return wordnet.NOUN\n",
    "    elif treebank_tag.startswith('R'):\n",
    "        return wordnet.ADV\n",
    "    else:\n",
    "        return wordnet.NOUN\n",
    "\n",
    "    \n",
    "# used to define the class for tokenizing and limiting each documents\n",
    "# output is a list containing each lemmatize the word in the input document\n",
    "class LemmaTokenizer:\n",
    "    def __init__(self): # initializer by instantiating WordNetLemmatizer object\n",
    "        self.wnl = WordNetLemmatizer()\n",
    "    def __call__(self, doc): # calling the documents to be tokenize\n",
    "        tokens = word_tokenize(doc) # convert documents into token (similar to string split)\n",
    "        words_and_tags = nltk.pos_tag(tokens) # to obtain the parts of speech tags\n",
    "        return [self.wnl.lemmatize(word, pos= get_wordnet_pos(tag)) for word, tag in words_and_tags] # to loop every words and tag to lemmatize function\n",
    "                                                                                                     \n",
    "\n",
    "vectorizer = CountVectorizer(tokenizer = LemmaTokenizer())\n",
    "x_train = vectorizer.fit_transform(input_train)\n",
    "x_test = vectorizer.transform(input_test)\n",
    "model = MultinomialNB()\n",
    "model.fit(x_train, y_train)\n",
    "\n",
    "print(\"train score: \",model.score(x_train,y_train))\n",
    "print(\"test score: \", model.score(x_test, y_test))"
   ]
  },
  {
   "cell_type": "code",
   "execution_count": 10,
   "id": "b04807fe",
   "metadata": {},
   "outputs": [
    {
     "name": "stdout",
     "output_type": "stream",
     "text": [
      "train score:  0.9892086330935251\n",
      "test score:  0.9694793536804309\n"
     ]
    }
   ],
   "source": [
    "# Method 4: StemTokenizer\n",
    "\n",
    "class StemTokenizer:\n",
    "    def __init__(self):\n",
    "        self.porter = PorterStemmer() # initiate  porterstemmer\n",
    "    def __call__(self, doc):\n",
    "        tokens = word_tokenize(doc)\n",
    "        return [self.porter.stem(t) for t in tokens]\n",
    "    \n",
    "vectorizer = CountVectorizer(tokenizer = StemTokenizer())\n",
    "x_train = vectorizer.fit_transform(input_train)\n",
    "x_test = vectorizer.transform(input_test)\n",
    "model = MultinomialNB()\n",
    "model.fit(x_train, y_train)\n",
    "\n",
    "print(\"train score: \",model.score(x_train,y_train))\n",
    "print(\"test score: \", model.score(x_test, y_test))"
   ]
  },
  {
   "cell_type": "markdown",
   "id": "a47b7832",
   "metadata": {},
   "source": [
    "### Conclusion:\n",
    "&nbsp;\n",
    "<div style=\"text-align: justify\">\n",
    "All of the methods demonstrated similar accuracy. Stopword outperformed other methods in test score accuracy (0.98), followed by the simple split method (0.97). Both Lemmatization and Stemming methods performed poorly compared to Stopword and Simple split method. In addition, not transforming the word to vector shows better performance than both approaches. Therefore, based on these observations, we can conclude that testing all word-to-vector (Count vectorizer) transformations is required. Additionally, the Complex model (Lemmatization & Stemming) does not mean it is the best approach for a given dataset.</div>"
   ]
  },
  {
   "cell_type": "code",
   "execution_count": null,
   "id": "a09df1f5",
   "metadata": {},
   "outputs": [],
   "source": []
  }
 ],
 "metadata": {
  "kernelspec": {
   "display_name": "Python 3",
   "language": "python",
   "name": "python3"
  },
  "language_info": {
   "codemirror_mode": {
    "name": "ipython",
    "version": 3
   },
   "file_extension": ".py",
   "mimetype": "text/x-python",
   "name": "python",
   "nbconvert_exporter": "python",
   "pygments_lexer": "ipython3",
   "version": "3.8.5"
  }
 },
 "nbformat": 4,
 "nbformat_minor": 5
}
